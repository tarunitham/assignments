{
 "cells": [
  {
   "cell_type": "markdown",
   "id": "f42153b9",
   "metadata": {},
   "source": [
    "## Practice Questions - Loops"
   ]
  },
  {
   "cell_type": "markdown",
   "id": "c8c3054e",
   "metadata": {},
   "source": [
    "#### Question 1: Write a program to print the following number pattern using a loop.\n",
    "\n",
    "1 \\\n",
    "1 3 \\\n",
    "1 3 5 "
   ]
  },
  {
   "cell_type": "code",
   "execution_count": 8,
   "id": "1108608c",
   "metadata": {},
   "outputs": [
    {
     "name": "stdout",
     "output_type": "stream",
     "text": [
      "1 \n",
      "\n",
      "1 3 \n",
      "\n",
      "1 3 5 \n",
      "\n"
     ]
    }
   ],
   "source": [
    "# Solution \n",
    "for i in range(3):\n",
    "    for j in range(1,2*i+3,2):\n",
    "        print(str(j)+\" \", end=\"\")\n",
    "    print(\"\\n\")"
   ]
  },
  {
   "cell_type": "markdown",
   "id": "94440a4e",
   "metadata": {},
   "source": [
    "#### Question 2: Calculate the sum of all numbers from 1 to a given number  \n",
    "\n",
    "Input - 5\\\n",
    "Output - 15, <em>which is (1+2+3+4+5)</em>"
   ]
  },
  {
   "cell_type": "code",
   "execution_count": 11,
   "id": "770a9f6f",
   "metadata": {},
   "outputs": [
    {
     "data": {
      "text/plain": [
       "15"
      ]
     },
     "execution_count": 11,
     "metadata": {},
     "output_type": "execute_result"
    }
   ],
   "source": [
    "# Solution\n",
    "def sum_of_num(num):\n",
    "    sum1 = 0\n",
    "    for i in range(1,num+1):\n",
    "        sum1 += i\n",
    "    return sum1\n",
    "sum_of_num(5)"
   ]
  },
  {
   "cell_type": "markdown",
   "id": "e20717d7",
   "metadata": {},
   "source": [
    "#### Question 3: Find the factorial of a given number \n",
    "\n",
    "Input - 5\\\n",
    "Output - 120, <em>which is (1x2x3x4x5)</em>"
   ]
  },
  {
   "cell_type": "code",
   "execution_count": 14,
   "id": "9be266a7",
   "metadata": {},
   "outputs": [
    {
     "data": {
      "text/plain": [
       "120"
      ]
     },
     "execution_count": 14,
     "metadata": {},
     "output_type": "execute_result"
    }
   ],
   "source": [
    "# Solution\n",
    "def factorial(num):\n",
    "    val = 1\n",
    "    while num > 0:\n",
    "        val = val * num\n",
    "        num = num-1\n",
    "    return val\n",
    "factorial(5)        "
   ]
  },
  {
   "cell_type": "markdown",
   "id": "8b4643ca",
   "metadata": {},
   "source": [
    "#### Question 4: Given a student score (between 0 and 100), evaluate the following criteria.\n",
    "\n",
    "- Elgible for funding if the score is greater than 90\n",
    "- Fail if the score is less than 70\n",
    "- Need tutoring if they are not qualified for funding and havent failed.\n",
    " \n",
    "Input - 65, <em> User input </em> \\\n",
    "Output - Fail"
   ]
  },
  {
   "cell_type": "code",
   "execution_count": 19,
   "id": "755dda69",
   "metadata": {},
   "outputs": [
    {
     "name": "stdout",
     "output_type": "stream",
     "text": [
      "Enter the score: 55\n"
     ]
    },
    {
     "data": {
      "text/plain": [
       "'Fail'"
      ]
     },
     "execution_count": 19,
     "metadata": {},
     "output_type": "execute_result"
    }
   ],
   "source": [
    "# Solution\n",
    "def eval_criteria(score):\n",
    "    if score > 90:\n",
    "        return \"Eligible for funding\"\n",
    "    elif score >= 70 and score <= 90:\n",
    "        return \"Need tutoring\"\n",
    "    else:\n",
    "        return \"Fail\"\n",
    "\n",
    "eval_criteria(int(input(\"Enter the score: \")))"
   ]
  },
  {
   "cell_type": "markdown",
   "id": "0250ffb6",
   "metadata": {},
   "source": [
    "#### Question 5: Check if the given year is a leap year.\n",
    "\n",
    "Input - 1995 \\\n",
    "Output - No"
   ]
  },
  {
   "cell_type": "code",
   "execution_count": 20,
   "id": "6e37dfb4",
   "metadata": {},
   "outputs": [
    {
     "data": {
      "text/plain": [
       "'No'"
      ]
     },
     "execution_count": 20,
     "metadata": {},
     "output_type": "execute_result"
    }
   ],
   "source": [
    "# Solution\n",
    "def checkLeapYear(year):\n",
    "    if year % 4 == 0:\n",
    "        if year % 100 == 0:\n",
    "            if year % 400 == 0:\n",
    "                return \"Yes\"\n",
    "            else:\n",
    "                return \"No\"\n",
    "        else:\n",
    "            return \"Yes\"\n",
    "    else:\n",
    "        return \"No\"\n",
    "\n",
    "checkLeapYear(1995)"
   ]
  },
  {
   "cell_type": "markdown",
   "id": "4a44d2fb",
   "metadata": {},
   "source": [
    "#### Question 6: Print the number of days in the given month. (You can assume 28 days for February)\n",
    "\n",
    "Input - \"January\" \\\n",
    "Output - 31"
   ]
  },
  {
   "cell_type": "code",
   "execution_count": 21,
   "id": "98d82f0c",
   "metadata": {},
   "outputs": [
    {
     "name": "stdout",
     "output_type": "stream",
     "text": [
      "Enter any month: February\n",
      "28\n"
     ]
    }
   ],
   "source": [
    "# Solution\n",
    "dic = {\"January\":31, \"February\":28, \"March\":31, \"April\":30, \"May\":31, \"June\":30, \"July\":31, \"August\":31, \"September\":30, \"October\":31, \"November\":30, \"December\":31}\n",
    "month = input(\"Enter any month: \")\n",
    "for i in dic:\n",
    "    if month == i:\n",
    "        print(dic[i])"
   ]
  },
  {
   "cell_type": "markdown",
   "id": "05d3d8c1",
   "metadata": {},
   "source": [
    "#### Question 7: Write a program which takes the 3 numbers and identifes the largest one.\n",
    "\n",
    "Input - 30, 12, 50 \\\n",
    "Output - 50"
   ]
  },
  {
   "cell_type": "code",
   "execution_count": 24,
   "id": "f4d47f2d",
   "metadata": {},
   "outputs": [
    {
     "data": {
      "text/plain": [
       "50"
      ]
     },
     "execution_count": 24,
     "metadata": {},
     "output_type": "execute_result"
    }
   ],
   "source": [
    "# Solution\n",
    "def find_greatest(a,b,c):\n",
    "    if a > b and a > c:\n",
    "        return a\n",
    "    elif b>c:\n",
    "        return b\n",
    "    else:\n",
    "        return c\n",
    "find_greatest(30,12,50)"
   ]
  },
  {
   "cell_type": "markdown",
   "id": "0b76f364",
   "metadata": {},
   "source": [
    "#### Question 8: Write a program which takes the three 2 digit numbers and sorts them in ascending order.\n",
    "\n",
    "Input - 30, 12, 50 \\\n",
    "Output - 12, 30, 50"
   ]
  },
  {
   "cell_type": "code",
   "execution_count": 53,
   "id": "66cc7213",
   "metadata": {},
   "outputs": [
    {
     "name": "stdout",
     "output_type": "stream",
     "text": [
      "Enter a number: 4\n",
      "Enter a number: 3\n",
      "Enter a number: 6\n"
     ]
    },
    {
     "data": {
      "text/plain": [
       "'3, 4, 6'"
      ]
     },
     "execution_count": 53,
     "metadata": {},
     "output_type": "execute_result"
    }
   ],
   "source": [
    "# Solution\n",
    "lst = []\n",
    "for i in range(3):\n",
    "    lst.append(int(input(\"Enter a number: \")))\n",
    "lst = sorted(lst)\n",
    "for j in range(0,len(lst)):\n",
    "    lst[j] = str(lst[j])\n",
    "\", \".join(lst)"
   ]
  },
  {
   "cell_type": "markdown",
   "id": "f90efc3e",
   "metadata": {},
   "source": [
    "#### Question 9: Write a program which takes the user's weight(in lbs) and height(in inches), and then calculates the bmi using the below formula.\n",
    "\n",
    "BMI = Weight X 0.45359/((Height X 0.0254) X Height X 0.0254))\n",
    "\n",
    "Input - 150, 70 <em> , 2 user inputs (weight and height) </em> \\\n",
    "Output - 21.522"
   ]
  },
  {
   "cell_type": "code",
   "execution_count": 25,
   "id": "8d2ca168",
   "metadata": {},
   "outputs": [
    {
     "name": "stdout",
     "output_type": "stream",
     "text": [
      "Enter user's weight(in lbs): 150\n",
      "Enter user's height(in inches): 70\n"
     ]
    },
    {
     "data": {
      "text/plain": [
       "21.52242569791262"
      ]
     },
     "execution_count": 25,
     "metadata": {},
     "output_type": "execute_result"
    }
   ],
   "source": [
    "# Solution\n",
    "weight = int(input(\"Enter user's weight(in lbs): \"))\n",
    "height = int(input(\"Enter user's height(in inches): \"))\n",
    "bmi = weight * 0.45359/((height*0.0254)*height*0.0254)\n",
    "bmi"
   ]
  },
  {
   "cell_type": "markdown",
   "id": "bdfa27e9",
   "metadata": {},
   "source": [
    "#### Question 10: Write a program to check whether a number is prime or not using while loop.\n",
    "\n",
    "Input - 13 \\\n",
    "Output - Prime"
   ]
  },
  {
   "cell_type": "code",
   "execution_count": 35,
   "id": "4217bdec",
   "metadata": {},
   "outputs": [
    {
     "name": "stdout",
     "output_type": "stream",
     "text": [
      "Enter a number: 15\n",
      "Not a Prime\n"
     ]
    }
   ],
   "source": [
    "# Solution\n",
    "num = int(input(\"Enter a number: \"))\n",
    "count = 0\n",
    "i = 2\n",
    "while i <= num/2:\n",
    "    if num % i == 0:\n",
    "        count+=1\n",
    "        break\n",
    "    i+=1\n",
    "if count>0:\n",
    "    print(\"Not a Prime\")\n",
    "else:\n",
    "    print(\"Prime\")"
   ]
  },
  {
   "cell_type": "code",
   "execution_count": null,
   "id": "329a23ba",
   "metadata": {},
   "outputs": [],
   "source": []
  },
  {
   "cell_type": "code",
   "execution_count": null,
   "id": "91dda2d6",
   "metadata": {},
   "outputs": [],
   "source": []
  },
  {
   "cell_type": "code",
   "execution_count": null,
   "id": "5a545121",
   "metadata": {},
   "outputs": [],
   "source": []
  }
 ],
 "metadata": {
  "kernelspec": {
   "display_name": "Python 3 (ipykernel)",
   "language": "python",
   "name": "python3"
  },
  "language_info": {
   "codemirror_mode": {
    "name": "ipython",
    "version": 3
   },
   "file_extension": ".py",
   "mimetype": "text/x-python",
   "name": "python",
   "nbconvert_exporter": "python",
   "pygments_lexer": "ipython3",
   "version": "3.9.12"
  }
 },
 "nbformat": 4,
 "nbformat_minor": 5
}
