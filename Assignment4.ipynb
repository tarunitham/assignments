{
 "cells": [
  {
   "cell_type": "code",
   "execution_count": 1,
   "id": "2257544a",
   "metadata": {},
   "outputs": [],
   "source": [
    "import pandas as pd\n",
    "import numpy as np\n",
    "import seaborn as sns\n",
    "import matplotlib.pyplot as plt\n",
    "%matplotlib inline"
   ]
  },
  {
   "cell_type": "code",
   "execution_count": 5,
   "id": "b852ff82",
   "metadata": {},
   "outputs": [
    {
     "data": {
      "text/html": [
       "<div>\n",
       "<style scoped>\n",
       "    .dataframe tbody tr th:only-of-type {\n",
       "        vertical-align: middle;\n",
       "    }\n",
       "\n",
       "    .dataframe tbody tr th {\n",
       "        vertical-align: top;\n",
       "    }\n",
       "\n",
       "    .dataframe thead th {\n",
       "        text-align: right;\n",
       "    }\n",
       "</style>\n",
       "<table border=\"1\" class=\"dataframe\">\n",
       "  <thead>\n",
       "    <tr style=\"text-align: right;\">\n",
       "      <th></th>\n",
       "      <th>name</th>\n",
       "      <th>year</th>\n",
       "      <th>price</th>\n",
       "      <th>miles_driven</th>\n",
       "      <th>Region</th>\n",
       "      <th>fuel</th>\n",
       "      <th>transmission</th>\n",
       "      <th>mileage</th>\n",
       "      <th>horse_power</th>\n",
       "      <th>seats</th>\n",
       "    </tr>\n",
       "  </thead>\n",
       "  <tbody>\n",
       "    <tr>\n",
       "      <th>0</th>\n",
       "      <td>Audi</td>\n",
       "      <td>2010</td>\n",
       "      <td>9733</td>\n",
       "      <td>34650</td>\n",
       "      <td>West</td>\n",
       "      <td>Gasoline</td>\n",
       "      <td>Automatic</td>\n",
       "      <td>28.9050</td>\n",
       "      <td>163.20</td>\n",
       "      <td>5</td>\n",
       "    </tr>\n",
       "    <tr>\n",
       "      <th>1</th>\n",
       "      <td>Audi</td>\n",
       "      <td>2017</td>\n",
       "      <td>22533</td>\n",
       "      <td>5040</td>\n",
       "      <td>South</td>\n",
       "      <td>Gasoline</td>\n",
       "      <td>Automatic</td>\n",
       "      <td>39.0100</td>\n",
       "      <td>177.50</td>\n",
       "      <td>5</td>\n",
       "    </tr>\n",
       "    <tr>\n",
       "      <th>2</th>\n",
       "      <td>Audi</td>\n",
       "      <td>2014</td>\n",
       "      <td>21333</td>\n",
       "      <td>27720</td>\n",
       "      <td>South</td>\n",
       "      <td>Diesel</td>\n",
       "      <td>Automatic</td>\n",
       "      <td>38.8925</td>\n",
       "      <td>147.51</td>\n",
       "      <td>5</td>\n",
       "    </tr>\n",
       "    <tr>\n",
       "      <th>3</th>\n",
       "      <td>Audi</td>\n",
       "      <td>2017</td>\n",
       "      <td>34667</td>\n",
       "      <td>44100</td>\n",
       "      <td>Central</td>\n",
       "      <td>Diesel</td>\n",
       "      <td>Automatic</td>\n",
       "      <td>47.8930</td>\n",
       "      <td>143.00</td>\n",
       "      <td>5</td>\n",
       "    </tr>\n",
       "    <tr>\n",
       "      <th>4</th>\n",
       "      <td>Audi</td>\n",
       "      <td>2019</td>\n",
       "      <td>82973</td>\n",
       "      <td>4914</td>\n",
       "      <td>Central</td>\n",
       "      <td>Gasoline</td>\n",
       "      <td>Automatic</td>\n",
       "      <td>35.8610</td>\n",
       "      <td>187.74</td>\n",
       "      <td>5</td>\n",
       "    </tr>\n",
       "  </tbody>\n",
       "</table>\n",
       "</div>"
      ],
      "text/plain": [
       "   name  year  price  miles_driven   Region      fuel transmission  mileage  \\\n",
       "0  Audi  2010   9733         34650     West  Gasoline    Automatic  28.9050   \n",
       "1  Audi  2017  22533          5040    South  Gasoline    Automatic  39.0100   \n",
       "2  Audi  2014  21333         27720    South    Diesel    Automatic  38.8925   \n",
       "3  Audi  2017  34667         44100  Central    Diesel    Automatic  47.8930   \n",
       "4  Audi  2019  82973          4914  Central  Gasoline    Automatic  35.8610   \n",
       "\n",
       "   horse_power  seats  \n",
       "0       163.20      5  \n",
       "1       177.50      5  \n",
       "2       147.51      5  \n",
       "3       143.00      5  \n",
       "4       187.74      5  "
      ]
     },
     "execution_count": 5,
     "metadata": {},
     "output_type": "execute_result"
    }
   ],
   "source": [
    "data = pd.read_excel('data.xlsx')\n",
    "data.head()"
   ]
  },
  {
   "cell_type": "code",
   "execution_count": 6,
   "id": "9f54cdb4",
   "metadata": {},
   "outputs": [
    {
     "name": "stdout",
     "output_type": "stream",
     "text": [
      "<class 'pandas.core.frame.DataFrame'>\n",
      "RangeIndex: 3323 entries, 0 to 3322\n",
      "Data columns (total 10 columns):\n",
      " #   Column        Non-Null Count  Dtype  \n",
      "---  ------        --------------  -----  \n",
      " 0   name          3323 non-null   object \n",
      " 1   year          3323 non-null   int64  \n",
      " 2   price         3323 non-null   int64  \n",
      " 3   miles_driven  3323 non-null   int64  \n",
      " 4   Region        3323 non-null   object \n",
      " 5   fuel          3323 non-null   object \n",
      " 6   transmission  3323 non-null   object \n",
      " 7   mileage       3323 non-null   float64\n",
      " 8   horse_power   3323 non-null   float64\n",
      " 9   seats         3323 non-null   int64  \n",
      "dtypes: float64(2), int64(4), object(4)\n",
      "memory usage: 259.7+ KB\n"
     ]
    }
   ],
   "source": [
    "data.info()"
   ]
  },
  {
   "cell_type": "code",
   "execution_count": 8,
   "id": "ff0d487e",
   "metadata": {},
   "outputs": [
    {
     "data": {
      "text/plain": [
       "<AxesSubplot:>"
      ]
     },
     "execution_count": 8,
     "metadata": {},
     "output_type": "execute_result"
    },
    {
     "data": {
      "image/png": "[encoded data removed]",
      "text/plain": [
       "<Figure size 432x288 with 1 Axes>"
      ]
     },
     "metadata": {
      "needs_background": "light"
     },
     "output_type": "display_data"
    }
   ],
   "source": [
    "#1a\n",
    "data.price.hist()"
   ]
  },
  {
   "cell_type": "markdown",
   "id": "cb7a1894",
   "metadata": {},
   "source": [
    "### From the above histogram we can observe that the price of the cars is right skewed."
   ]
  },
  {
   "cell_type": "code",
   "execution_count": 21,
   "id": "746db349",
   "metadata": {},
   "outputs": [
    {
     "data": {
      "text/plain": [
       "<AxesSubplot:xlabel='price', ylabel='name'>"
      ]
     },
     "execution_count": 21,
     "metadata": {},
     "output_type": "execute_result"
    },
    {
     "data": {
      "image/png": "[encoded data removed]",
      "text/plain": [
       "<Figure size 432x288 with 1 Axes>"
      ]
     },
     "metadata": {
      "needs_background": "light"
     },
     "output_type": "display_data"
    }
   ],
   "source": [
    "#1b\n",
    "sns.barplot(x='price',y='name',data=data, orient='h', estimator=np.mean)"
   ]
  },
  {
   "cell_type": "markdown",
   "id": "d82d86ec",
   "metadata": {},
   "source": [
    "### We can observe that Lexus Cars have the highest mean prices where as Chevrolet has lowest mean prices"
   ]
  },
  {
   "cell_type": "code",
   "execution_count": 23,
   "id": "30604ac1",
   "metadata": {},
   "outputs": [
    {
     "data": {
      "text/plain": [
       "<AxesSubplot:xlabel='year', ylabel='price'>"
      ]
     },
     "execution_count": 23,
     "metadata": {},
     "output_type": "execute_result"
    },
    {
     "data": {
      "image/png": "[encoded data removed]",
      "text/plain": [
       "<Figure size 432x288 with 1 Axes>"
      ]
     },
     "metadata": {
      "needs_background": "light"
     },
     "output_type": "display_data"
    }
   ],
   "source": [
    "#1c\n",
    "sns.lineplot(x='year', y='price', data=data, estimator=np.mean)"
   ]
  },
  {
   "cell_type": "markdown",
   "id": "2345b0f2",
   "metadata": {},
   "source": [
    "### From the line plot we can observe that average car prices was highest in the year 2019 and the lowest car prices were observed in the year 2003"
   ]
  },
  {
   "cell_type": "code",
   "execution_count": 31,
   "id": "1f4076d6",
   "metadata": {},
   "outputs": [
    {
     "data": {
      "text/plain": [
       "[<matplotlib.collections.PolyCollection at 0x1abbd66db50>]"
      ]
     },
     "execution_count": 31,
     "metadata": {},
     "output_type": "execute_result"
    },
    {
     "data": {
      "image/png": "[encoded data removed]",
      "text/plain": [
       "<Figure size 432x288 with 1 Axes>"
      ]
     },
     "metadata": {
      "needs_background": "light"
     },
     "output_type": "display_data"
    }
   ],
   "source": [
    "#1d\n",
    "g_data = data.groupby('year')['miles_driven'].mean().reset_index()\n",
    "plt.stackplot(g_data.year, g_data.miles_driven)"
   ]
  },
  {
   "cell_type": "markdown",
   "id": "c9643261",
   "metadata": {},
   "source": [
    "### From the area plot we can observe that most people have used the car during the year 2001."
   ]
  },
  {
   "cell_type": "code",
   "execution_count": 34,
   "id": "29c8605e",
   "metadata": {},
   "outputs": [
    {
     "data": {
      "text/plain": [
       "<AxesSubplot:xlabel='horse_power', ylabel='price'>"
      ]
     },
     "execution_count": 34,
     "metadata": {},
     "output_type": "execute_result"
    },
    {
     "data": {
      "image/png": "[encoded data removed]",
      "text/plain": [
       "<Figure size 432x288 with 1 Axes>"
      ]
     },
     "metadata": {
      "needs_background": "light"
     },
     "output_type": "display_data"
    }
   ],
   "source": [
    "#1e\n",
    "sns.scatterplot(data=data, x='horse_power', y='price')"
   ]
  },
  {
   "cell_type": "markdown",
   "id": "268de17d",
   "metadata": {},
   "source": [
    "### From the scatter plot we can observe that there is a positive correlation between horse_power and price"
   ]
  },
  {
   "cell_type": "code",
   "execution_count": 38,
   "id": "779b4471",
   "metadata": {},
   "outputs": [
    {
     "data": {
      "text/plain": [
       "<AxesSubplot:xlabel='fuel', ylabel='price'>"
      ]
     },
     "execution_count": 38,
     "metadata": {},
     "output_type": "execute_result"
    },
    {
     "data": {
      "image/png": "[encoded data removed]",
      "text/plain": [
       "<Figure size 432x288 with 1 Axes>"
      ]
     },
     "metadata": {
      "needs_background": "light"
     },
     "output_type": "display_data"
    }
   ],
   "source": [
    "#1f\n",
    "sns.boxplot(x='fuel', y='price', data=data)"
   ]
  },
  {
   "cell_type": "markdown",
   "id": "8924a01e",
   "metadata": {},
   "source": [
    "### From the box plot we can observe that price of diesel cars has higher median than other types of cars"
   ]
  },
  {
   "cell_type": "code",
   "execution_count": 39,
   "id": "01a802ec",
   "metadata": {},
   "outputs": [
    {
     "data": {
      "text/html": [
       "<div>\n",
       "<style scoped>\n",
       "    .dataframe tbody tr th:only-of-type {\n",
       "        vertical-align: middle;\n",
       "    }\n",
       "\n",
       "    .dataframe tbody tr th {\n",
       "        vertical-align: top;\n",
       "    }\n",
       "\n",
       "    .dataframe thead th {\n",
       "        text-align: right;\n",
       "    }\n",
       "</style>\n",
       "<table border=\"1\" class=\"dataframe\">\n",
       "  <thead>\n",
       "    <tr style=\"text-align: right;\">\n",
       "      <th></th>\n",
       "      <th>year</th>\n",
       "      <th>price</th>\n",
       "      <th>miles_driven</th>\n",
       "      <th>mileage</th>\n",
       "      <th>horse_power</th>\n",
       "      <th>seats</th>\n",
       "    </tr>\n",
       "  </thead>\n",
       "  <tbody>\n",
       "    <tr>\n",
       "      <th>count</th>\n",
       "      <td>3323.000000</td>\n",
       "      <td>3323.000000</td>\n",
       "      <td>3.323000e+03</td>\n",
       "      <td>3323.000000</td>\n",
       "      <td>3323.000000</td>\n",
       "      <td>3323.000000</td>\n",
       "    </tr>\n",
       "    <tr>\n",
       "      <th>mean</th>\n",
       "      <td>2014.190491</td>\n",
       "      <td>12115.888354</td>\n",
       "      <td>4.314015e+04</td>\n",
       "      <td>43.743896</td>\n",
       "      <td>106.387185</td>\n",
       "      <td>5.295516</td>\n",
       "    </tr>\n",
       "    <tr>\n",
       "      <th>std</th>\n",
       "      <td>3.440053</td>\n",
       "      <td>15203.179799</td>\n",
       "      <td>3.992027e+04</td>\n",
       "      <td>9.049754</td>\n",
       "      <td>41.932843</td>\n",
       "      <td>0.832404</td>\n",
       "    </tr>\n",
       "    <tr>\n",
       "      <th>min</th>\n",
       "      <td>1999.000000</td>\n",
       "      <td>600.000000</td>\n",
       "      <td>6.300000e+02</td>\n",
       "      <td>0.000000</td>\n",
       "      <td>55.200000</td>\n",
       "      <td>4.000000</td>\n",
       "    </tr>\n",
       "    <tr>\n",
       "      <th>25%</th>\n",
       "      <td>2012.000000</td>\n",
       "      <td>4047.000000</td>\n",
       "      <td>1.890000e+04</td>\n",
       "      <td>39.433000</td>\n",
       "      <td>78.900000</td>\n",
       "      <td>5.000000</td>\n",
       "    </tr>\n",
       "    <tr>\n",
       "      <th>50%</th>\n",
       "      <td>2015.000000</td>\n",
       "      <td>7333.000000</td>\n",
       "      <td>3.780000e+04</td>\n",
       "      <td>43.710000</td>\n",
       "      <td>94.930000</td>\n",
       "      <td>5.000000</td>\n",
       "    </tr>\n",
       "    <tr>\n",
       "      <th>75%</th>\n",
       "      <td>2017.000000</td>\n",
       "      <td>11333.000000</td>\n",
       "      <td>5.670000e+04</td>\n",
       "      <td>49.585000</td>\n",
       "      <td>123.700000</td>\n",
       "      <td>5.000000</td>\n",
       "    </tr>\n",
       "    <tr>\n",
       "      <th>max</th>\n",
       "      <td>2020.000000</td>\n",
       "      <td>133333.000000</td>\n",
       "      <td>1.487088e+06</td>\n",
       "      <td>98.700000</td>\n",
       "      <td>400.000000</td>\n",
       "      <td>10.000000</td>\n",
       "    </tr>\n",
       "  </tbody>\n",
       "</table>\n",
       "</div>"
      ],
      "text/plain": [
       "              year          price  miles_driven      mileage  horse_power  \\\n",
       "count  3323.000000    3323.000000  3.323000e+03  3323.000000  3323.000000   \n",
       "mean   2014.190491   12115.888354  4.314015e+04    43.743896   106.387185   \n",
       "std       3.440053   15203.179799  3.992027e+04     9.049754    41.932843   \n",
       "min    1999.000000     600.000000  6.300000e+02     0.000000    55.200000   \n",
       "25%    2012.000000    4047.000000  1.890000e+04    39.433000    78.900000   \n",
       "50%    2015.000000    7333.000000  3.780000e+04    43.710000    94.930000   \n",
       "75%    2017.000000   11333.000000  5.670000e+04    49.585000   123.700000   \n",
       "max    2020.000000  133333.000000  1.487088e+06    98.700000   400.000000   \n",
       "\n",
       "             seats  \n",
       "count  3323.000000  \n",
       "mean      5.295516  \n",
       "std       0.832404  \n",
       "min       4.000000  \n",
       "25%       5.000000  \n",
       "50%       5.000000  \n",
       "75%       5.000000  \n",
       "max      10.000000  "
      ]
     },
     "execution_count": 39,
     "metadata": {},
     "output_type": "execute_result"
    }
   ],
   "source": [
    "# 2.a\n",
    "data.describe()"
   ]
  },
  {
   "cell_type": "markdown",
   "id": "56323ff7",
   "metadata": {},
   "source": [
    "### From the above descriptive stats, we can say that mean price of cars is around 12000 and standard deviation of cars is around 15000. Mean and median for mileage is almost same which follows  a normal disribution. horse_power column is right skewed."
   ]
  },
  {
   "cell_type": "code",
   "execution_count": 43,
   "id": "420aab3c",
   "metadata": {},
   "outputs": [
    {
     "name": "stdout",
     "output_type": "stream",
     "text": [
      "price skewness:  2.816474815650045\n",
      "miles_driven skewness:  15.0598727675747\n",
      "mileage:  -0.3035060553684544\n",
      "horse_power:  1.3994290004521899\n"
     ]
    }
   ],
   "source": [
    "#2b\n",
    "from scipy.stats import skew\n",
    "print(\"price skewness: \",skew(data['price']))\n",
    "print(\"miles_driven skewness: \",skew(data['miles_driven']))\n",
    "print(\"mileage: \",skew(data['mileage']))\n",
    "print(\"horse_power: \",skew(data['horse_power']))"
   ]
  },
  {
   "cell_type": "markdown",
   "id": "ed0821c4",
   "metadata": {},
   "source": [
    "### We can see that price and miles_driven columns have high values of skewness where as mileage and horse_power follows near normal distribution"
   ]
  },
  {
   "cell_type": "code",
   "execution_count": 44,
   "id": "60698c1e",
   "metadata": {},
   "outputs": [
    {
     "data": {
      "text/html": [
       "<div>\n",
       "<style scoped>\n",
       "    .dataframe tbody tr th:only-of-type {\n",
       "        vertical-align: middle;\n",
       "    }\n",
       "\n",
       "    .dataframe tbody tr th {\n",
       "        vertical-align: top;\n",
       "    }\n",
       "\n",
       "    .dataframe thead th {\n",
       "        text-align: right;\n",
       "    }\n",
       "</style>\n",
       "<table border=\"1\" class=\"dataframe\">\n",
       "  <thead>\n",
       "    <tr style=\"text-align: right;\">\n",
       "      <th></th>\n",
       "      <th>year</th>\n",
       "      <th>price</th>\n",
       "      <th>miles_driven</th>\n",
       "      <th>mileage</th>\n",
       "      <th>horse_power</th>\n",
       "      <th>seats</th>\n",
       "    </tr>\n",
       "  </thead>\n",
       "  <tbody>\n",
       "    <tr>\n",
       "      <th>year</th>\n",
       "      <td>1.000000</td>\n",
       "      <td>0.487088</td>\n",
       "      <td>-0.460885</td>\n",
       "      <td>0.244287</td>\n",
       "      <td>0.254870</td>\n",
       "      <td>-0.106182</td>\n",
       "    </tr>\n",
       "    <tr>\n",
       "      <th>price</th>\n",
       "      <td>0.487088</td>\n",
       "      <td>1.000000</td>\n",
       "      <td>-0.255412</td>\n",
       "      <td>-0.149430</td>\n",
       "      <td>0.793635</td>\n",
       "      <td>0.012343</td>\n",
       "    </tr>\n",
       "    <tr>\n",
       "      <th>miles_driven</th>\n",
       "      <td>-0.460885</td>\n",
       "      <td>-0.255412</td>\n",
       "      <td>1.000000</td>\n",
       "      <td>-0.092103</td>\n",
       "      <td>-0.121093</td>\n",
       "      <td>0.270619</td>\n",
       "    </tr>\n",
       "    <tr>\n",
       "      <th>mileage</th>\n",
       "      <td>0.244287</td>\n",
       "      <td>-0.149430</td>\n",
       "      <td>-0.092103</td>\n",
       "      <td>1.000000</td>\n",
       "      <td>-0.333469</td>\n",
       "      <td>-0.464211</td>\n",
       "    </tr>\n",
       "    <tr>\n",
       "      <th>horse_power</th>\n",
       "      <td>0.254870</td>\n",
       "      <td>0.793635</td>\n",
       "      <td>-0.121093</td>\n",
       "      <td>-0.333469</td>\n",
       "      <td>1.000000</td>\n",
       "      <td>0.088855</td>\n",
       "    </tr>\n",
       "    <tr>\n",
       "      <th>seats</th>\n",
       "      <td>-0.106182</td>\n",
       "      <td>0.012343</td>\n",
       "      <td>0.270619</td>\n",
       "      <td>-0.464211</td>\n",
       "      <td>0.088855</td>\n",
       "      <td>1.000000</td>\n",
       "    </tr>\n",
       "  </tbody>\n",
       "</table>\n",
       "</div>"
      ],
      "text/plain": [
       "                  year     price  miles_driven   mileage  horse_power  \\\n",
       "year          1.000000  0.487088     -0.460885  0.244287     0.254870   \n",
       "price         0.487088  1.000000     -0.255412 -0.149430     0.793635   \n",
       "miles_driven -0.460885 -0.255412      1.000000 -0.092103    -0.121093   \n",
       "mileage       0.244287 -0.149430     -0.092103  1.000000    -0.333469   \n",
       "horse_power   0.254870  0.793635     -0.121093 -0.333469     1.000000   \n",
       "seats        -0.106182  0.012343      0.270619 -0.464211     0.088855   \n",
       "\n",
       "                 seats  \n",
       "year         -0.106182  \n",
       "price         0.012343  \n",
       "miles_driven  0.270619  \n",
       "mileage      -0.464211  \n",
       "horse_power   0.088855  \n",
       "seats         1.000000  "
      ]
     },
     "execution_count": 44,
     "metadata": {},
     "output_type": "execute_result"
    }
   ],
   "source": [
    "#2.c\n",
    "data.corr()"
   ]
  },
  {
   "cell_type": "markdown",
   "id": "c5d9764f",
   "metadata": {},
   "source": [
    "### From the correlation table we can observe that price and hore_power has strong positive correlation, where as columns like miles_driven and year has moderate negative correlation"
   ]
  },
  {
   "cell_type": "code",
   "execution_count": null,
   "id": "c6eda0e1",
   "metadata": {},
   "outputs": [],
   "source": []
  }
 ],
 "metadata": {
  "kernelspec": {
   "display_name": "Python 3 (ipykernel)",
   "language": "python",
   "name": "python3"
  },
  "language_info": {
   "codemirror_mode": {
    "name": "ipython",
    "version": 3
   },
   "file_extension": ".py",
   "mimetype": "text/x-python",
   "name": "python",
   "nbconvert_exporter": "python",
   "pygments_lexer": "ipython3",
   "version": "3.9.12"
  }
 },
 "nbformat": 4,
 "nbformat_minor": 5
}
