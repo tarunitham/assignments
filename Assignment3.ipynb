{
 "cells": [
  {
   "cell_type": "code",
   "execution_count": 10,
   "id": "cedc8adc",
   "metadata": {},
   "outputs": [
    {
     "data": {
      "text/plain": [
       "'Bad'"
      ]
     },
     "execution_count": 10,
     "metadata": {},
     "output_type": "execute_result"
    }
   ],
   "source": [
    "#1\n",
    "import random\n",
    "class Student:\n",
    "    def __init__(self,first_name, last_name, country, overall_grade, credits_completed, major):\n",
    "        self.first_name = first_name\n",
    "        self.last_name = last_name\n",
    "        self.country = country\n",
    "        self.overall_grade = overall_grade\n",
    "        self.credits_completed = credits_completed\n",
    "        self.major = major\n",
    "    \n",
    "    def evaluate_progress(self):\n",
    "        if self.overall_grade > 3 and self.credits_completed>20:\n",
    "            return \"Good\"\n",
    "        elif self.overall_grade>2.5 or self.credits_completed >= 10 and self.credits_completed<=20:\n",
    "            return \"Average\"\n",
    "        elif self.overall_grade <= 2.5:\n",
    "            return \"Bad\"\n",
    "        else:\n",
    "            pass\n",
    "\n",
    "student = Student(\"Alex\",\"Jones\",\"US\",random.randrange(0,4),random.randint(0,30),\"BUSA\")\n",
    "student.evaluate_progress()"
   ]
  },
  {
   "cell_type": "code",
   "execution_count": 11,
   "id": "cf897e60",
   "metadata": {},
   "outputs": [
    {
     "data": {
      "text/plain": [
       "([1, 2, 3], [-5, -4])"
      ]
     },
     "execution_count": 11,
     "metadata": {},
     "output_type": "execute_result"
    }
   ],
   "source": [
    "# 2\n",
    "def identify_positive_and_negative(lst):\n",
    "    positive_lst = []\n",
    "    negative_lst = []\n",
    "    for i in lst:\n",
    "        if i > 0:\n",
    "            positive_lst.append(i)\n",
    "        elif i < 0:\n",
    "            negative_lst.append(i)\n",
    "        else:\n",
    "            pass\n",
    "    return positive_lst, negative_lst\n",
    "identify_positive_and_negative([1,2,0,-5,3,-4])"
   ]
  },
  {
   "cell_type": "code",
   "execution_count": 20,
   "id": "2861d606",
   "metadata": {},
   "outputs": [
    {
     "data": {
      "text/plain": [
       "[(9, 10), (10, 10), (11, 8), (11, 9), (11, 10)]"
      ]
     },
     "execution_count": 20,
     "metadata": {},
     "output_type": "execute_result"
    }
   ],
   "source": [
    "# 3\n",
    "def winning_possibilities(score):\n",
    "    result = []\n",
    "    for i in range(8,12):\n",
    "        for j in range(7,11):\n",
    "            if i+j > score and (j,i) not in result:\n",
    "                result.append((i,j))\n",
    "    return result\n",
    "winning_possibilities(18)"
   ]
  },
  {
   "cell_type": "code",
   "execution_count": 23,
   "id": "bf635692",
   "metadata": {},
   "outputs": [
    {
     "name": "stdout",
     "output_type": "stream",
     "text": [
      "421 ns ± 7.18 ns per loop (mean ± std. dev. of 7 runs, 1,000,000 loops each)\n",
      "1.67 µs ± 6.61 ns per loop (mean ± std. dev. of 7 runs, 1,000,000 loops each)\n"
     ]
    }
   ],
   "source": [
    "# 4\n",
    "# For Question 2\n",
    "# Number of steps = 21\n",
    "# Big(O) notation = O(N)\n",
    "%timeit identify_positive_and_negative([1,2,0,-5,3,-4])\n",
    "# For Question 3\n",
    "# Number of steps = 38\n",
    "# Big(O) notation = O(N^2)\n",
    "%timeit winning_possibilities(18)"
   ]
  },
  {
   "cell_type": "code",
   "execution_count": null,
   "id": "d18ab27b",
   "metadata": {},
   "outputs": [],
   "source": []
  }
 ],
 "metadata": {
  "kernelspec": {
   "display_name": "Python 3 (ipykernel)",
   "language": "python",
   "name": "python3"
  },
  "language_info": {
   "codemirror_mode": {
    "name": "ipython",
    "version": 3
   },
   "file_extension": ".py",
   "mimetype": "text/x-python",
   "name": "python",
   "nbconvert_exporter": "python",
   "pygments_lexer": "ipython3",
   "version": "3.9.12"
  }
 },
 "nbformat": 4,
 "nbformat_minor": 5
}
