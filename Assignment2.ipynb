{
 "cells": [
  {
   "cell_type": "code",
   "execution_count": 5,
   "id": "f1ab0d2f",
   "metadata": {},
   "outputs": [
    {
     "name": "stdout",
     "output_type": "stream",
     "text": [
      "288\n"
     ]
    }
   ],
   "source": [
    "#1\n",
    "import random\n",
    "lst = []\n",
    "count = 0\n",
    "streak = 0\n",
    "for i in range(10000):\n",
    "    lst.append(random.randint(0,1))\n",
    "    if i>=1:\n",
    "        if lst[i] == lst[i-1]:\n",
    "            count+=1\n",
    "            if count >= 5:\n",
    "                streak+=1\n",
    "        else:\n",
    "            count = 0\n",
    "print(streak)            "
   ]
  },
  {
   "cell_type": "code",
   "execution_count": 7,
   "id": "58ed9987",
   "metadata": {},
   "outputs": [
    {
     "name": "stdout",
     "output_type": "stream",
     "text": [
      "Enter number of swords: 4\n",
      "Enter number of diamonds: 10\n",
      "Enter number of gold coins: 6\n",
      "Enter number of ropes: 3\n",
      "Enter number of potions: 2\n",
      "4 swords\n",
      "10 diamonds\n",
      "6 gold coins\n",
      "3 ropes\n",
      "2 potions\n"
     ]
    }
   ],
   "source": [
    "#2\n",
    "dict1 = {\"swords\":0, \"diamonds\":0, \"gold coins\":0, \"ropes\":0, \"potions\":0}\n",
    "swords = int(input(\"Enter number of swords: \"))\n",
    "diamonds = int(input(\"Enter number of diamonds: \"))\n",
    "gold_coins = int(input(\"Enter number of gold coins: \"))\n",
    "ropes = int(input(\"Enter number of ropes: \"))\n",
    "potions = int(input(\"Enter number of potions: \"))\n",
    "dict1[\"swords\"] = swords\n",
    "dict1[\"diamonds\"] = diamonds\n",
    "dict1[\"gold coins\"] = gold_coins\n",
    "dict1[\"ropes\"] = ropes\n",
    "dict1[\"potions\"] = potions\n",
    "for i in dict1:\n",
    "    print(str(dict1[i]) + \" \" + i)"
   ]
  },
  {
   "cell_type": "code",
   "execution_count": 8,
   "id": "39479d21",
   "metadata": {},
   "outputs": [
    {
     "name": "stdout",
     "output_type": "stream",
     "text": [
      "347\n"
     ]
    }
   ],
   "source": [
    "# 3\n",
    "import array as arr\n",
    "import random\n",
    "arr1 = arr.array('i',[])\n",
    "count = 0\n",
    "streak = 0\n",
    "for i in range(10000):\n",
    "    arr1.append(random.randint(0,1))\n",
    "    if i >= 1:\n",
    "        if arr1[i] == arr1[i-1]:\n",
    "            count+=1\n",
    "            if count>=5:\n",
    "                streak+=1\n",
    "        else:\n",
    "            count = 0\n",
    "print(streak)"
   ]
  },
  {
   "cell_type": "code",
   "execution_count": 15,
   "id": "e59d5890",
   "metadata": {},
   "outputs": [
    {
     "name": "stdout",
     "output_type": "stream",
     "text": [
      "player_2 is the winner\n"
     ]
    }
   ],
   "source": [
    "# 4\n",
    "import random\n",
    "player_dict = {\"player_1\":0, \"player_2\":0, \"player_3\":0}\n",
    "for i in player_dict:\n",
    "    score = 0\n",
    "    for j in range(10):\n",
    "        score += random.randint(1,6)\n",
    "    player_dict[i] = score\n",
    "player_dict = dict(sorted(player_dict.items(), key=lambda player: player[1], reverse=True))\n",
    "for i in player_dict:\n",
    "    print(i + \" is the winner\")\n",
    "    break;"
   ]
  },
  {
   "cell_type": "code",
   "execution_count": null,
   "id": "dd86d97a",
   "metadata": {},
   "outputs": [],
   "source": []
  }
 ],
 "metadata": {
  "kernelspec": {
   "display_name": "Python 3 (ipykernel)",
   "language": "python",
   "name": "python3"
  },
  "language_info": {
   "codemirror_mode": {
    "name": "ipython",
    "version": 3
   },
   "file_extension": ".py",
   "mimetype": "text/x-python",
   "name": "python",
   "nbconvert_exporter": "python",
   "pygments_lexer": "ipython3",
   "version": "3.9.12"
  }
 },
 "nbformat": 4,
 "nbformat_minor": 5
}
