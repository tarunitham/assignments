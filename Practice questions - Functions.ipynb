{
 "cells": [
  {
   "cell_type": "markdown",
   "id": "1834e7af",
   "metadata": {},
   "source": [
    "## Practice Questions - Functions\n",
    "\n",
    "### Create functions for problems from weeks 1 & 2"
   ]
  },
  {
   "cell_type": "markdown",
   "id": "3edc9f62",
   "metadata": {},
   "source": [
    "#### Question 1: \n",
    "\n",
    "Create a function which takes 2 lists and a choice of **append(), extend(), insert(), and concatenation**, then returns the added list according to the selected choice. \n",
    "\n",
    "function call &rarr; add_lists (list_1, list_2, use_append) \\\n",
    "returns &rarr; [list_1, list_2]"
   ]
  },
  {
   "cell_type": "code",
   "execution_count": 14,
   "id": "b33faca1",
   "metadata": {},
   "outputs": [
    {
     "data": {
      "text/plain": [
       "[1, 2, 3, 4, 2, 5]"
      ]
     },
     "execution_count": 14,
     "metadata": {},
     "output_type": "execute_result"
    }
   ],
   "source": [
    "def add_lists(list_1, list_2, use_append):\n",
    "    if use_append == \"append\":\n",
    "        list_1.append(list_2)\n",
    "    elif use_append == \"extend\":\n",
    "        list_1.extend(list_2)\n",
    "    elif use_append == \"insert\":\n",
    "        list_1.insert(0,list_2)\n",
    "    else:\n",
    "        list_1 = list_1 + list_2\n",
    "    return list_1\n",
    "add_lists([1,2,3],[4,2,5],\"concat\")"
   ]
  },
  {
   "cell_type": "markdown",
   "id": "3c3007cb",
   "metadata": {},
   "source": [
    "#### Question 2: \n",
    "\n",
    "Write a function that tests whether a list or a string is empty or not. \n",
    "\n",
    "function call &rarr; test_empty (list_1)\\\n",
    "returns &rarr; true or false"
   ]
  },
  {
   "cell_type": "code",
   "execution_count": 9,
   "id": "ac34d0bc",
   "metadata": {},
   "outputs": [
    {
     "data": {
      "text/plain": [
       "True"
      ]
     },
     "execution_count": 9,
     "metadata": {},
     "output_type": "execute_result"
    }
   ],
   "source": [
    "def test_empty(list_1):\n",
    "    if len(list_1)==0:\n",
    "        return True\n",
    "    else:\n",
    "        return False\n",
    "test_empty(\"\")"
   ]
  },
  {
   "cell_type": "markdown",
   "id": "42dcfc84",
   "metadata": {},
   "source": [
    "#### Question 3:\n",
    "\n",
    "Write a function that takes an integer n and return a dictionary whose keys are integers 1, 2, 3, ... n and whose values ​​are 1! , 2! , 3! , … , n!\n",
    "\n",
    "function call &rarr; factorial_dict (3)\\\n",
    "returns &rarr; { 1 : 1, 2 : 2, 3 : 6 }"
   ]
  },
  {
   "cell_type": "code",
   "execution_count": 11,
   "id": "cf3950b9",
   "metadata": {},
   "outputs": [
    {
     "data": {
      "text/plain": [
       "{1: 1, 2: 2, 3: 6}"
      ]
     },
     "execution_count": 11,
     "metadata": {},
     "output_type": "execute_result"
    }
   ],
   "source": [
    "import math\n",
    "def factorial_dict(n):\n",
    "    dict1 = {}\n",
    "    for i in range(1,n+1):\n",
    "        dict1[i] = math.factorial(i)\n",
    "    return dict1\n",
    "factorial_dict(3)"
   ]
  },
  {
   "cell_type": "markdown",
   "id": "dda2ad27",
   "metadata": {},
   "source": [
    "#### Question 4: \n",
    "    \n",
    "Write a function to identify the largest word in a string.\n",
    "\n",
    "function call &rarr; largest_word (\"Fear leads to anger, anger leads to hate, hate leads to suffering.\")\\\n",
    "returns &rarr; \"suffering\""
   ]
  },
  {
   "cell_type": "code",
   "execution_count": 21,
   "id": "792fed25",
   "metadata": {},
   "outputs": [
    {
     "name": "stdout",
     "output_type": "stream",
     "text": [
      "['Fear', 'leads', 'to', 'anger', '', 'anger', 'leads', 'to', 'hate', '', 'hate', 'leads', 'to', 'suffering', '']\n"
     ]
    },
    {
     "data": {
      "text/plain": [
       "'suffering'"
      ]
     },
     "execution_count": 21,
     "metadata": {},
     "output_type": "execute_result"
    }
   ],
   "source": [
    "import re\n",
    "def largest_word(stri):\n",
    "    lst = re.split(',|\\.| ',stri)\n",
    "    print(lst)\n",
    "    dict1 = {}\n",
    "    for i in lst:\n",
    "        dict1[i] = len(i)\n",
    "    max_key = max(dict1, key=dict1.get)\n",
    "    return max_key\n",
    "largest_word(\"Fear leads to anger, anger leads to hate, hate leads to suffering.\")"
   ]
  },
  {
   "cell_type": "markdown",
   "id": "c4af06ad",
   "metadata": {},
   "source": [
    "#### Question 5: \n",
    "    \n",
    "Write a function to calculate the sum of the diagonal elements of a **n X n** matrix. \n",
    "\n",
    "function call &rarr; diagonal_sum(   [ [ 1  4  7 ]\n",
    " [ 2  5  8 ]\n",
    " [ 3  6  9 ] ] )\\\n",
    "returns &rarr; 15"
   ]
  },
  {
   "cell_type": "code",
   "execution_count": 23,
   "id": "779fa0af",
   "metadata": {},
   "outputs": [
    {
     "data": {
      "text/plain": [
       "15"
      ]
     },
     "execution_count": 23,
     "metadata": {},
     "output_type": "execute_result"
    }
   ],
   "source": [
    "def diagonal_sum(n):\n",
    "    count=0\n",
    "    for i in range(0,len(n)):\n",
    "        for j in range(0,len(n[i])):\n",
    "            if i == j:\n",
    "                count+=n[i][j]\n",
    "    return count\n",
    "diagonal_sum([[1,4,7],[2,5,8],[3,6,9]])"
   ]
  },
  {
   "cell_type": "markdown",
   "id": "e18dcbdd",
   "metadata": {},
   "source": [
    "#### Question 6: Given a student score (between 0 and 100), write a function to evaluate the following criteria.\n",
    "\n",
    "- Elgible for funding if the score is greater than 90\n",
    "- Fail if the score is less than 70\n",
    "- Need tutoring if they are not qualified for funding and havent failed.\n",
    " \n",
    "function call → student_assessment(67)\\\n",
    "returns → Fail"
   ]
  },
  {
   "cell_type": "code",
   "execution_count": 25,
   "id": "520a6017",
   "metadata": {},
   "outputs": [
    {
     "data": {
      "text/plain": [
       "'Fail'"
      ]
     },
     "execution_count": 25,
     "metadata": {},
     "output_type": "execute_result"
    }
   ],
   "source": [
    "def student_assessment(score):\n",
    "    if score > 90:\n",
    "        return \"Eligible for funding\"\n",
    "    elif score >= 70 and score <= 90:\n",
    "        return \"Need tutoring\"\n",
    "    else:\n",
    "        return \"Fail\"\n",
    "\n",
    "student_assessment(67)"
   ]
  },
  {
   "cell_type": "markdown",
   "id": "303ae729",
   "metadata": {},
   "source": [
    "#### Question 7: Write a function to check if the given year is a leap year.\n",
    "\n",
    "function call → cheap_leap(1995)\\\n",
    "returns → \"No\""
   ]
  },
  {
   "cell_type": "code",
   "execution_count": 26,
   "id": "748911cd",
   "metadata": {},
   "outputs": [
    {
     "data": {
      "text/plain": [
       "'No'"
      ]
     },
     "execution_count": 26,
     "metadata": {},
     "output_type": "execute_result"
    }
   ],
   "source": [
    "def cheap_leap(year):\n",
    "    if year % 4 == 0:\n",
    "        if year % 100 == 0:\n",
    "            if year % 400 == 0:\n",
    "                return \"Yes\"\n",
    "            else:\n",
    "                return \"No\"\n",
    "        else:\n",
    "            return \"Yes\"\n",
    "    else:\n",
    "        return \"No\"\n",
    "\n",
    "cheap_leap(1995)"
   ]
  },
  {
   "cell_type": "markdown",
   "id": "67ea7a6a",
   "metadata": {},
   "source": [
    "#### Question 8: Write a function which returns the number of days in the given month. (You can assume 28 days for February)\n",
    "\n",
    "function call → get_days(\"January\")\\\n",
    "returns → 31"
   ]
  },
  {
   "cell_type": "code",
   "execution_count": 27,
   "id": "afdf7ac2",
   "metadata": {},
   "outputs": [
    {
     "data": {
      "text/plain": [
       "31"
      ]
     },
     "execution_count": 27,
     "metadata": {},
     "output_type": "execute_result"
    }
   ],
   "source": [
    "def get_days(month):\n",
    "    dic = {\"January\":31, \"February\":28, \"March\":31, \"April\":30, \"May\":31, \"June\":30, \"July\":31, \"August\":31, \"September\":30, \"October\":31, \"November\":30, \"December\":31}\n",
    "    for i in dic:\n",
    "        if month == i:\n",
    "            return dic[i]\n",
    "get_days(\"January\")"
   ]
  },
  {
   "cell_type": "markdown",
   "id": "983b7e74",
   "metadata": {},
   "source": [
    "#### Question 9: Write a function which takes the user's weight(in lbs) and height(in inches), and then returns the bmi using the below formula.\n",
    "\n",
    "BMI = Weight X 0.45359/((Height X 0.0254) X Height X 0.0254))\n",
    "\n",
    "function call → calculate_bmi(150, 70)\\\n",
    "returns → 21.522"
   ]
  },
  {
   "cell_type": "code",
   "execution_count": 28,
   "id": "41fcb0a5",
   "metadata": {},
   "outputs": [
    {
     "data": {
      "text/plain": [
       "21.52242569791262"
      ]
     },
     "execution_count": 28,
     "metadata": {},
     "output_type": "execute_result"
    }
   ],
   "source": [
    "def calculate_bmi(weight,height):\n",
    "    bmi = weight * 0.45359/((height*0.0254)*height*0.0254)\n",
    "    return bmi\n",
    "calculate_bmi(150,70)"
   ]
  },
  {
   "cell_type": "markdown",
   "id": "273584f9",
   "metadata": {},
   "source": [
    "#### Question 10: Write a function to check whether a number is prime or not.\n",
    "\n",
    "function call → check_prime(13)\\\n",
    "returns → \"True\""
   ]
  },
  {
   "cell_type": "code",
   "execution_count": 29,
   "id": "3946d678",
   "metadata": {},
   "outputs": [
    {
     "data": {
      "text/plain": [
       "'Prime'"
      ]
     },
     "execution_count": 29,
     "metadata": {},
     "output_type": "execute_result"
    }
   ],
   "source": [
    "def check_prime(num):\n",
    "    count = 0\n",
    "    i = 2\n",
    "    while i <= num/2:\n",
    "        if num % i == 0:\n",
    "            count+=1\n",
    "            break\n",
    "        i+=1\n",
    "    if count>0:\n",
    "        return \"Not a Prime\"\n",
    "    else:\n",
    "        return \"Prime\"\n",
    "check_prime(13)"
   ]
  },
  {
   "cell_type": "code",
   "execution_count": 9,
   "id": "96f12942",
   "metadata": {},
   "outputs": [],
   "source": []
  },
  {
   "cell_type": "code",
   "execution_count": null,
   "id": "7113cb5a",
   "metadata": {},
   "outputs": [],
   "source": []
  }
 ],
 "metadata": {
  "kernelspec": {
   "display_name": "Python 3 (ipykernel)",
   "language": "python",
   "name": "python3"
  },
  "language_info": {
   "codemirror_mode": {
    "name": "ipython",
    "version": 3
   },
   "file_extension": ".py",
   "mimetype": "text/x-python",
   "name": "python",
   "nbconvert_exporter": "python",
   "pygments_lexer": "ipython3",
   "version": "3.9.12"
  }
 },
 "nbformat": 4,
 "nbformat_minor": 5
}
