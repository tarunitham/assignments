{
 "cells": [
  {
   "cell_type": "code",
   "execution_count": 3,
   "id": "4436f4dc",
   "metadata": {},
   "outputs": [
    {
     "name": "stdout",
     "output_type": "stream",
     "text": [
      "Guess the number between 1 and 20: 5\n",
      "you have 4 chances left\n",
      "Guess the number between 1 and 20: 7\n",
      "you have 3 chances left\n",
      "Guess the number between 1 and 20: 15\n",
      "you have 2 chances left\n",
      "Guess the number between 1 and 20: 17\n",
      "you have 1 chances left\n",
      "Guess the number between 1 and 20: 13\n"
     ]
    },
    {
     "data": {
      "text/plain": [
       "'You have guessed the correct number'"
      ]
     },
     "execution_count": 3,
     "metadata": {},
     "output_type": "execute_result"
    }
   ],
   "source": [
    "#1\n",
    "import random\n",
    "def guess_number(num):\n",
    "    chances = 5\n",
    "    while chances > 0:\n",
    "        i = int(input(\"Guess the number between 1 and 20: \"))\n",
    "        if i == num:\n",
    "            return \"You have guessed the correct number\"\n",
    "        elif chances == 1:\n",
    "            print(\"The selected number is: \"+  str(num))\n",
    "            return \"No chances left, Play the game again\"\n",
    "        else:\n",
    "            chances = chances - 1\n",
    "            print(\"you have \" + str(chances) + \" chances left\")\n",
    "\n",
    "game = guess_number(random.randint(1,20))\n",
    "game            "
   ]
  },
  {
   "cell_type": "code",
   "execution_count": 5,
   "id": "f8fc4878",
   "metadata": {},
   "outputs": [
    {
     "name": "stdout",
     "output_type": "stream",
     "text": [
      "Guess the number between 1 and 20: 15\n",
      "Guess a higher value\n",
      "you have 4 chances left\n",
      "Guess the number between 1 and 20: 17\n",
      "Guess a higher value\n",
      "you have 3 chances left\n",
      "Guess the number between 1 and 20: 19\n"
     ]
    },
    {
     "data": {
      "text/plain": [
       "'You have guessed the correct number'"
      ]
     },
     "execution_count": 5,
     "metadata": {},
     "output_type": "execute_result"
    }
   ],
   "source": [
    "# 2\n",
    "def guess_number_with_inputs(num):\n",
    "    chances = 5\n",
    "    while chances > 0:\n",
    "        i = int(input(\"Guess the number between 1 and 20: \"))\n",
    "        if i == num:\n",
    "            return \"You have guessed the correct number\"\n",
    "        elif chances == 1:\n",
    "            print(\"The selected number is: \"+  str(num))\n",
    "            return \"No chances left, Play the game again\"\n",
    "        elif num > i:\n",
    "            print(\"Guess a higher value\")\n",
    "            chances = chances - 1\n",
    "            print(\"you have \" + str(chances) + \" chances left\")\n",
    "        elif num < i:\n",
    "            print(\"Guess a lower value\")\n",
    "            chances = chances - 1\n",
    "            print(\"you have \" + str(chances) + \" chances left\")\n",
    "        else:\n",
    "            pass\n",
    "\n",
    "game = guess_number_with_inputs(random.randint(1,20))\n",
    "game "
   ]
  },
  {
   "cell_type": "code",
   "execution_count": 11,
   "id": "1e5ff2ee",
   "metadata": {},
   "outputs": [
    {
     "name": "stdout",
     "output_type": "stream",
     "text": [
      "Select one from rock, paper, scissor, lizard, spock \n",
      "spock\n",
      "player chooses: spock\n",
      "com chooses: rock\n",
      "Computer wins!!\n"
     ]
    }
   ],
   "source": [
    "#3\n",
    "import random\n",
    "def convert_name_to_number(name):\n",
    "    if name == \"rock\":\n",
    "        return 0\n",
    "    elif name == \"paper\":\n",
    "        return 1\n",
    "    elif name == \"scissor\":\n",
    "        return 2\n",
    "    elif name == \"lizard\":\n",
    "        return 3\n",
    "    elif name == \"spock\":\n",
    "        return 4\n",
    "    else:\n",
    "        print(\"name selected is not in the game!!\")\n",
    "        \n",
    "def convert_number_to_name(num):\n",
    "    if num == 0:\n",
    "        return \"rock\"\n",
    "    elif num == 1:\n",
    "        return \"paper\"\n",
    "    elif num == 2:\n",
    "        return \"scissor\"\n",
    "    elif num == 3:\n",
    "        return \"lizard\"\n",
    "    elif num == 4:\n",
    "        return \"spock\"\n",
    "    else:\n",
    "        return \"error\"\n",
    "        \n",
    "def rock_p_s_l_spock(guess):\n",
    "    player_sel = convert_name_to_number(guess)\n",
    "    comp_sel = random.randrange(0,5)\n",
    "    winner = (comp_sel - player_sel)%5\n",
    "    if winner < 3:\n",
    "        win_player = False\n",
    "    else:\n",
    "        win_player = True\n",
    "    com_sel_name = convert_number_to_name(comp_sel)\n",
    "    print(\"player chooses: \"  + guess)\n",
    "    print(\"com chooses: \" + com_sel_name)\n",
    "    if win_player:\n",
    "        print(\"Player won the game\")\n",
    "    elif player_sel == comp_sel:\n",
    "        print(\"It's a tie!!\")\n",
    "    else:\n",
    "        print(\"Computer wins!!\")\n",
    "        \n",
    "\n",
    "player_guess = input(\"Select one from rock, paper, scissor, lizard, spock \\n\")\n",
    "rock_p_s_l_spock(player_guess.lower())"
   ]
  },
  {
   "cell_type": "code",
   "execution_count": null,
   "id": "4bcbb8f0",
   "metadata": {},
   "outputs": [],
   "source": []
  },
  {
   "cell_type": "code",
   "execution_count": null,
   "id": "f12ace1e",
   "metadata": {},
   "outputs": [],
   "source": []
  }
 ],
 "metadata": {
  "kernelspec": {
   "display_name": "Python 3 (ipykernel)",
   "language": "python",
   "name": "python3"
  },
  "language_info": {
   "codemirror_mode": {
    "name": "ipython",
    "version": 3
   },
   "file_extension": ".py",
   "mimetype": "text/x-python",
   "name": "python",
   "nbconvert_exporter": "python",
   "pygments_lexer": "ipython3",
   "version": "3.9.12"
  }
 },
 "nbformat": 4,
 "nbformat_minor": 5
}
