{
 "cells": [
  {
   "cell_type": "markdown",
   "id": "bc203c58",
   "metadata": {},
   "source": [
    "## Practice Questions - Strings & Data Structures"
   ]
  },
  {
   "cell_type": "markdown",
   "id": "44bd5425",
   "metadata": {},
   "source": [
    "#### Question 1: \n",
    "\n",
    "Given an original list consiting of values: 22, 41, 33, 66, 8, 12 and 90. Use **append(), extend(), insert(), and concatenation** to add the values 32, 45, 16 and 11 to the list. "
   ]
  },
  {
   "cell_type": "code",
   "execution_count": 3,
   "id": "67d75946",
   "metadata": {},
   "outputs": [
    {
     "data": {
      "text/plain": [
       "[45, 22, 41, 33, 66, 8, 12, 90, 32, 16, 11]"
      ]
     },
     "execution_count": 3,
     "metadata": {},
     "output_type": "execute_result"
    }
   ],
   "source": [
    "lst = [22,41,33,66,8,12,90]\n",
    "lst.append(32)\n",
    "lst.insert(0,45)\n",
    "lst1 = [16]\n",
    "lst.extend(lst1)\n",
    "lst2 = [11]\n",
    "res_lst = lst + lst2\n",
    "res_lst"
   ]
  },
  {
   "cell_type": "markdown",
   "id": "9bdbb16a",
   "metadata": {},
   "source": [
    "#### Question 2: \n",
    "\n",
    "Write a Python program that tests whether a list is empty or not. Repeat the task for testing an empty string."
   ]
  },
  {
   "cell_type": "code",
   "execution_count": 4,
   "id": "152a1ba8",
   "metadata": {},
   "outputs": [
    {
     "data": {
      "text/plain": [
       "'List is empty'"
      ]
     },
     "execution_count": 4,
     "metadata": {},
     "output_type": "execute_result"
    }
   ],
   "source": [
    "def len_list(lst):\n",
    "    if len(lst) == 0:\n",
    "        return \"List is empty\"\n",
    "    else:\n",
    "        return lst\n",
    "len_list([])"
   ]
  },
  {
   "cell_type": "markdown",
   "id": "927cce91",
   "metadata": {},
   "source": [
    "#### Question 3: \n",
    "\n",
    "- How many times does \"dream\" appear in the text?\n",
    "\n",
    "- Where is this text from? \n",
    "\n",
    "- Create a python code to print the text.\n",
    "\n",
    "Dream on\\\n",
    "Dream on\\\n",
    "I dream on\\\n",
    "Dream a little, I'll dream on\\\n",
    "Dream on\\\n",
    "I dream on\\\n",
    "I dream on\n",
    "\n",
    "Dream a little, I'll dream on\\\n",
    "Dream on\\\n",
    "Dream on\\\n",
    "Dream on\\\n",
    "I'll dream on\\\n",
    "Dream on\\\n",
    "Dream on\\\n",
    "I dream on"
   ]
  },
  {
   "cell_type": "code",
   "execution_count": 13,
   "id": "85ab54e8",
   "metadata": {},
   "outputs": [
    {
     "name": "stdout",
     "output_type": "stream",
     "text": [
      "17\n"
     ]
    }
   ],
   "source": [
    "import re\n",
    "stri = \"\"\"Dream on \n",
    "Dream on\n",
    "I dream on\n",
    "Dream a little, I'll dream on\n",
    "Dream on\n",
    "I dream on\n",
    "I dream on\n",
    "\n",
    "Dream a little, I'll dream on\n",
    "Dream on\n",
    "Dream on\n",
    "Dream on\n",
    "I'll dream on\n",
    "Dream on\n",
    "Dream on\n",
    "I dream on\"\"\"\n",
    "stri = re.split(' |\\n', stri)\n",
    "stri\n",
    "count = 0\n",
    "for i in stri:\n",
    "    if i.lower() == 'dream':\n",
    "        count+=1\n",
    "print(count)"
   ]
  },
  {
   "cell_type": "markdown",
   "id": "f5f2fff5",
   "metadata": {},
   "source": [
    "#### Question 4: \n",
    "\n",
    "Create a dictionary, with keys being the name of employees: Oliver, Myers, Noah and Fallon. \n",
    "\n",
    "Add the values age (random - between 40 and 60), income (random between 100,000 and 150,000) and rating (random between 3.0 and 5.0) "
   ]
  },
  {
   "cell_type": "code",
   "execution_count": 17,
   "id": "ffdf510a",
   "metadata": {},
   "outputs": [
    {
     "data": {
      "text/plain": [
       "{'Oliver': {'age': 57, 'income': 115837, 'rating': 3},\n",
       " 'Myers': {'age': 41, 'income': 117596, 'rating': 3},\n",
       " 'Noah': {'age': 54, 'income': 139666, 'rating': 4},\n",
       " 'Fallon': {'age': 46, 'income': 141306, 'rating': 4}}"
      ]
     },
     "execution_count": 17,
     "metadata": {},
     "output_type": "execute_result"
    }
   ],
   "source": [
    "import random\n",
    "dict1 = {\"Oliver\":{\"age\": random.randint(40,60), \"income\":random.randint(100000,150000), \"rating\": random.randrange(3.0,5.0)},\n",
    "        \"Myers\" : {\"age\": random.randint(40,60), \"income\":random.randint(100000,150000), \"rating\": random.randrange(3.0,5.0)},\n",
    "        \"Noah\":{\"age\": random.randint(40,60), \"income\":random.randint(100000,150000), \"rating\": random.randrange(3.0,5.0)},\n",
    "        \"Fallon\":{\"age\": random.randint(40,60), \"income\":random.randint(100000,150000), \"rating\": random.randrange(3.0,5.0)}}\n",
    "dict1"
   ]
  },
  {
   "cell_type": "markdown",
   "id": "56396df1",
   "metadata": {},
   "source": [
    "#### Question 5: \n",
    "\n",
    "Create the following student data into 2 sub dictionaries based on the scores. (score <= 10 & score > 10)"
   ]
  },
  {
   "cell_type": "code",
   "execution_count": 20,
   "id": "4c265e31",
   "metadata": {},
   "outputs": [
    {
     "name": "stdout",
     "output_type": "stream",
     "text": [
      "{'student_3': 9, 'student_5': 8, 'student_112': 9, 'student_13': 10, 'student_16': 7, 'student_19': 9}\n",
      "{'student_1': 13, 'student_2': 17, 'student_4': 15, 'student_6': 14, 'student_7': 16, 'student_8': 12, 'student_9': 13, 'student_10': 15, 'student_11': 14, 'student_14': 12, 'student_15': 13, 'student_17': 12, 'student_18': 15, 'student_20': 17}\n"
     ]
    }
   ],
   "source": [
    "students = {\"student_1\" : 13 , \"student_2\" : 17 , \"student_3\" : 9 , \"student_4\" : 15 , \"student_5\" : 8 , \"student_6\" : 14 , \n",
    "            \"student_7\" : 16 , \"student_8\" : 12 , \"student_9\" : 13 , \"student_10\" : 15 , \"student_11\" : 14 , \"student_112\" : 9 , \n",
    "            \"student_13\" : 10 , \"student_14\" : 12 , \"student_15\" : 13 , \"student_16\" : 7 , \"student_17\" : 12 , \"student_18\" : 15 , \n",
    "            \"student_19\" : 9 , \"student_20\" : 17 ,}\n",
    "pairs = students.items()\n",
    "students_lt_10 = {key: value for key, value in pairs if value <= 10}\n",
    "students_gt_10 = {key: value for key, value in pairs if value > 10}\n",
    "print(students_lt_10)\n",
    "print(students_gt_10)"
   ]
  },
  {
   "cell_type": "markdown",
   "id": "a2127ddc",
   "metadata": {},
   "source": [
    "#### Question 6: \n",
    "\n",
    "\n",
    "Write a python program that asks the user to enter an integer n and return a dictionary whose keys are integers 1, 2, 3, ... n and whose values ​​are 1! , 2! , 3! , … , n!"
   ]
  },
  {
   "cell_type": "code",
   "execution_count": 21,
   "id": "07c7a0f6",
   "metadata": {},
   "outputs": [
    {
     "data": {
      "text/plain": [
       "{1: 1, 2: 2, 3: 6, 4: 24, 5: 120}"
      ]
     },
     "execution_count": 21,
     "metadata": {},
     "output_type": "execute_result"
    }
   ],
   "source": [
    "import math\n",
    "def create_dict(n):\n",
    "    dict1={}\n",
    "    for i in range(1,n+1):\n",
    "        dict1[i] = math.factorial(i)\n",
    "    return dict1\n",
    "create_dict(5)"
   ]
  },
  {
   "cell_type": "markdown",
   "id": "73eb3c1f",
   "metadata": {},
   "source": [
    "#### Question 7: \n",
    "    \n",
    "Write a program to identify the largest word in a string."
   ]
  },
  {
   "cell_type": "code",
   "execution_count": 28,
   "id": "5d57e16f",
   "metadata": {},
   "outputs": [
    {
     "data": {
      "text/plain": [
       "'largest'"
      ]
     },
     "execution_count": 28,
     "metadata": {},
     "output_type": "execute_result"
    }
   ],
   "source": [
    "stri = \"A largest brown fox\"\n",
    "lst = stri.split(\" \")\n",
    "dict1 = {}\n",
    "for i in lst:\n",
    "    dict1[i] = len(i)\n",
    "max_key = max(dict1, key=dict1.get)\n",
    "max_key"
   ]
  },
  {
   "cell_type": "markdown",
   "id": "395aa221",
   "metadata": {},
   "source": [
    "#### Question 8: \n",
    "    \n",
    "Given an integer array, write a program to identify all the rows with values greater than the mean of the entire data."
   ]
  },
  {
   "cell_type": "code",
   "execution_count": 40,
   "id": "c02f79db",
   "metadata": {},
   "outputs": [
    {
     "name": "stdout",
     "output_type": "stream",
     "text": [
      "[3, 2, 6]\n",
      "[5, 7, 9]\n"
     ]
    }
   ],
   "source": [
    "lst = [[1,2,3], [3,2,6], [5,7,9]]\n",
    "lst1 = []\n",
    "total_sum = 0\n",
    "count = 0\n",
    "for i in range(0,len(lst)):\n",
    "    for j in range(0, len(lst[i])):\n",
    "        total_sum += lst[i][j]\n",
    "        count+=1\n",
    "avg = total_sum/count\n",
    "for m in range(0,len(lst)):\n",
    "    for n in range(0, len(lst[m])):\n",
    "        if lst[m][n] > avg:\n",
    "            lst1.append(m)\n",
    "            break;\n",
    "for i in lst1:\n",
    "    print(lst[i])"
   ]
  },
  {
   "cell_type": "markdown",
   "id": "2c897176",
   "metadata": {},
   "source": [
    "#### Question 9: \n",
    "    \n",
    "Given an array of strings, write a program to create a new array which contains the lengths of the strings in ascending order"
   ]
  },
  {
   "cell_type": "code",
   "execution_count": 32,
   "id": "394d79e3",
   "metadata": {},
   "outputs": [
    {
     "data": {
      "text/plain": [
       "[2, 3, 4]"
      ]
     },
     "execution_count": 32,
     "metadata": {},
     "output_type": "execute_result"
    }
   ],
   "source": [
    "lst = [\"an\", \"dogs\", \"are\"]\n",
    "lst1 = []\n",
    "for i in lst:\n",
    "    lst1.append(len(i))\n",
    "sorted(lst1)"
   ]
  },
  {
   "cell_type": "markdown",
   "id": "12af2109",
   "metadata": {},
   "source": [
    "#### Question 10: \n",
    "    \n",
    "Write a program to calculate the sum of the diagonal elements of a **n X n** matrix. "
   ]
  },
  {
   "cell_type": "code",
   "execution_count": 37,
   "id": "fb671b54",
   "metadata": {},
   "outputs": [
    {
     "data": {
      "text/plain": [
       "5"
      ]
     },
     "execution_count": 37,
     "metadata": {},
     "output_type": "execute_result"
    }
   ],
   "source": [
    "n = [[1,2,3],[3,2,1],[1,3,2]]\n",
    "count=0\n",
    "for i in range(0,len(n)):\n",
    "    for j in range(0,len(n[i])):\n",
    "        if i == j:\n",
    "            count+=n[i][j]\n",
    "count"
   ]
  },
  {
   "cell_type": "code",
   "execution_count": null,
   "id": "1d36f1cb",
   "metadata": {},
   "outputs": [],
   "source": []
  }
 ],
 "metadata": {
  "kernelspec": {
   "display_name": "Python 3 (ipykernel)",
   "language": "python",
   "name": "python3"
  },
  "language_info": {
   "codemirror_mode": {
    "name": "ipython",
    "version": 3
   },
   "file_extension": ".py",
   "mimetype": "text/x-python",
   "name": "python",
   "nbconvert_exporter": "python",
   "pygments_lexer": "ipython3",
   "version": "3.9.12"
  }
 },
 "nbformat": 4,
 "nbformat_minor": 5
}
